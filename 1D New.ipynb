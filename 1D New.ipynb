{
 "cells": [
  {
   "cell_type": "code",
   "execution_count": 2,
   "id": "89c02252",
   "metadata": {},
   "outputs": [
    {
     "name": "stdout",
     "output_type": "stream",
     "text": [
      "   192609  0.36  -1.4  0.13  0.23\n",
      "0  192610 -3.24 -0.09  0.70  0.32\n",
      "1  192611  2.53 -0.10 -0.51  0.31\n",
      "2  192612  2.62 -0.03 -0.05  0.28\n",
      "3  192701 -0.06 -0.37  4.54  0.25\n",
      "4  192702  4.18  0.04  2.94  0.26\n"
     ]
    }
   ],
   "source": [
    "import pandas as pd\n",
    "\n",
    "# Path to the Fama-French factors data file\n",
    "file_ff_factors = 'C:/Users/tangy/Desktop/data/F-F_Research_Data_Factors.CSV'\n",
    "\n",
    "# Reading the Fama-French factors data\n",
    "df_ff_factors = pd.read_csv(file_ff_factors, skiprows=3)\n",
    "\n",
    "# Display the first few rows to check the data\n",
    "print(df_ff_factors.head())\n"
   ]
  },
  {
   "cell_type": "code",
   "execution_count": 8,
   "id": "344538c2",
   "metadata": {},
   "outputs": [
    {
     "name": "stdout",
     "output_type": "stream",
     "text": [
      "Fama-French Factors Data:\n",
      "    192609  0.36  -1.4  0.13  0.23\n",
      "0  192610 -3.24 -0.09  0.70  0.32\n",
      "1  192611  2.53 -0.10 -0.51  0.31\n",
      "2  192612  2.62 -0.03 -0.05  0.28\n",
      "3  192701 -0.06 -0.37  4.54  0.25\n",
      "4  192702  4.18  0.04  2.94  0.26\n",
      "\n",
      "MSCI USA Index Data:\n",
      "         Date USA Standard (Large+Mid Cap)\n",
      "0  31-Jan-95                      442.209\n",
      "1  28-Feb-95                      458.693\n",
      "2  31-Mar-95                      470.035\n",
      "3  28-Apr-95                      483.842\n",
      "4  31-May-95                      501.775\n",
      "\n",
      "MSCI USA Value Index Data:\n",
      "         Date USA VALUE Standard (Large+Mid Cap)\n",
      "0  31-Jan-95                            613.312\n",
      "1  28-Feb-95                            636.999\n",
      "2  31-Mar-95                            651.991\n",
      "3  28-Apr-95                            672.687\n",
      "4  31-May-95                            698.397\n",
      "\n",
      "MSCI USA Minimum Volatility Index Data:\n",
      "         Date USA MINIMUM VOLATILITY (USD) Standard (Large+Mid Cap)\n",
      "0  31-Jan-95                                            439.603   \n",
      "1  28-Feb-95                                            453.957   \n",
      "2  31-Mar-95                                            466.344   \n",
      "3  28-Apr-95                                            478.155   \n",
      "4  31-May-95                                            492.605   \n",
      "\n",
      "MSCI USA Equal-Weighted Index Data:\n",
      "         Date USA EQUAL WEIGHTED Standard (Large+Mid Cap)\n",
      "0  31-Jan-95                                      459.97\n",
      "1  28-Feb-95                                     479.423\n",
      "2  31-Mar-95                                     491.723\n",
      "3  28-Apr-95                                     502.324\n",
      "4  31-May-95                                     519.538\n",
      "\n",
      "MSCI USA Momentum Index Data:\n",
      "         Date USA MOMENTUM Standard (Large+Mid Cap)\n",
      "0  31-Jan-95                                159.89\n",
      "1  28-Feb-95                               166.192\n",
      "2  31-Mar-95                               173.507\n",
      "3  28-Apr-95                               180.889\n",
      "4  31-May-95                               187.201\n",
      "\n",
      "Fama-French Portfolios Sorted on Beta:\n",
      "     Value Weighted Returns -- Monthly Unnamed: 1 Unnamed: 2 Unnamed: 3  \\\n",
      "0                                 NaN      Lo 20      Qnt 2      Qnt 3   \n",
      "1                              196307       1.14       -0.1      -0.93   \n",
      "2                              196308       3.66       4.77       6.34   \n",
      "3                              196309      -2.78      -0.76      -0.71   \n",
      "4                              196310       0.74       3.57       2.08   \n",
      "\n",
      "  Unnamed: 4 Unnamed: 5 Unnamed: 6 Unnamed: 7 Unnamed: 8 Unnamed: 9  \\\n",
      "0      Qnt 4      Hi 20      Lo 10  2023/12/2  2023/12/3  2023/12/4   \n",
      "1      -0.91      -1.46       1.36       0.75       0.08      -0.28   \n",
      "2       6.38       9.72       3.52        3.9       4.29       5.26   \n",
      "3      -0.92      -2.74       -3.1      -2.24      -0.54      -0.98   \n",
      "4       5.75       3.05       1.24      -0.13          2       5.13   \n",
      "\n",
      "  Unnamed: 10 Unnamed: 11 Unnamed: 12 Unnamed: 13 Unnamed: 14 Unnamed: 15  \n",
      "0   2023/12/5   2023/12/6   2023/12/7   2023/12/8   2023/12/9       Hi 10  \n",
      "1       -0.59       -1.22       -0.42       -1.35       -2.06       -0.77  \n",
      "2         5.2        7.34        7.94        4.96        9.06       10.47  \n",
      "3       -1.33       -0.17       -0.81       -1.02       -1.91       -3.68  \n",
      "4        2.35        1.86         6.8        4.76        3.09        3.01  \n",
      "\n",
      "MSCI Factor Total Return Index:\n",
      "         Date USA Standard (Large+Mid Cap) USA VALUE Standard (Large+Mid Cap)  \\\n",
      "0  30-Dec-94                     1,182.01                           1,756.48   \n",
      "1  31-Jan-95                     1,214.88                           1,808.73   \n",
      "2  28-Feb-95                     1,263.07                           1,883.85   \n",
      "3  31-Mar-95                     1,297.22                           1,933.54   \n",
      "4  28-Apr-95                     1,338.26                           2,000.25   \n",
      "\n",
      "  USA MINIMUM VOLATILITY (USD) Standard (Large+Mid Cap)  \\\n",
      "0                                            387.308      \n",
      "1                                             396.01      \n",
      "2                                            410.371      \n",
      "3                                            422.553      \n",
      "4                                            434.023      \n",
      "\n",
      "  USA EQUAL WEIGHTED Standard (Large+Mid Cap)  \\\n",
      "0                                     413.761   \n",
      "1                                     423.714   \n",
      "2                                      442.93   \n",
      "3                                     455.181   \n",
      "4                                     465.624   \n",
      "\n",
      "  USA MOMENTUM Standard (Large+Mid Cap)  \n",
      "0                               122.578  \n",
      "1                               124.135  \n",
      "2                               129.288  \n",
      "3                               135.227  \n",
      "4                               141.059  \n"
     ]
    }
   ],
   "source": [
    "import pandas as pd\n",
    "\n",
    "base_path = 'C:/Users/tangy/Desktop/data/'\n",
    "\n",
    "file_ff_factors = base_path + 'F-F_Research_Data_Factors.CSV'\n",
    "file_msci_usa_index = base_path + 'MSCI USA index.CSV'\n",
    "file_msci_value_index = base_path + 'MSCI USA value index.CSV'\n",
    "file_msci_min_vol_index = base_path + 'MSCI USA minimum volatility index.CSV'\n",
    "file_msci_equal_weighted_index = base_path + 'MSCI USA equal-weighted index.CSV'\n",
    "file_msci_momentum_index = base_path + 'MSCI USA momentum index.CSV'\n",
    "file_ff_portfolios_beta = base_path + 'FF - portfolios sorted on beta.CSV'\n",
    "file_msci_factor_totret_index = base_path + 'MSCI - factor totret index.CSV'\n",
    "\n",
    "# Reading the data with specific encoding for the files that had issues\n",
    "df_ff_factors = pd.read_csv(file_ff_factors, skiprows=3)\n",
    "df_msci_usa_index = pd.read_csv(file_msci_usa_index)\n",
    "df_msci_value_index = pd.read_csv(file_msci_value_index)\n",
    "df_msci_min_vol_index = pd.read_csv(file_msci_min_vol_index)\n",
    "df_msci_equal_weighted_index = pd.read_csv(file_msci_equal_weighted_index)\n",
    "df_msci_momentum_index = pd.read_csv(file_msci_momentum_index)\n",
    "df_ff_portfolios_beta = pd.read_csv(file_ff_portfolios_beta, encoding='ISO-8859-1')\n",
    "df_msci_factor_totret_index = pd.read_csv(file_msci_factor_totret_index, encoding='ISO-8859-1')\n",
    "\n",
    "# Display the first few rows of each dataframe to check the data\n",
    "print(\"Fama-French Factors Data:\\n\", df_ff_factors.head())\n",
    "print(\"\\nMSCI USA Index Data:\\n\", df_msci_usa_index.head())\n",
    "print(\"\\nMSCI USA Value Index Data:\\n\", df_msci_value_index.head())\n",
    "print(\"\\nMSCI USA Minimum Volatility Index Data:\\n\", df_msci_min_vol_index.head())\n",
    "print(\"\\nMSCI USA Equal-Weighted Index Data:\\n\", df_msci_equal_weighted_index.head())\n",
    "print(\"\\nMSCI USA Momentum Index Data:\\n\", df_msci_momentum_index.head())\n",
    "print(\"\\nFama-French Portfolios Sorted on Beta:\\n\", df_ff_portfolios_beta.head())\n",
    "print(\"\\nMSCI Factor Total Return Index:\\n\", df_msci_factor_totret_index.head())\n"
   ]
  },
  {
   "cell_type": "code",
   "execution_count": 9,
   "id": "fe30811f",
   "metadata": {},
   "outputs": [
    {
     "name": "stdout",
     "output_type": "stream",
     "text": [
      "Date                                                     period[M]\n",
      "USA Standard (Large+Mid Cap)                                object\n",
      "USA VALUE Standard (Large+Mid Cap)                          object\n",
      "USA MINIMUM VOLATILITY (USD) Standard (Large+Mid Cap)       object\n",
      "USA EQUAL WEIGHTED Standard (Large+Mid Cap)                 object\n",
      "USA MOMENTUM Standard (Large+Mid Cap)                       object\n",
      "dtype: object\n"
     ]
    }
   ],
   "source": [
    "# Convert date columns to datetime format for all datasets\n",
    "df_ff_factors['Date'] = pd.to_datetime(df_ff_factors.iloc[:, 0], format='%Y%m').dt.to_period('M')\n",
    "df_msci_usa_index['Date'] = pd.to_datetime(df_msci_usa_index['Date'], dayfirst=True).dt.to_period('M')\n",
    "df_msci_value_index['Date'] = pd.to_datetime(df_msci_value_index['Date'], dayfirst=True).dt.to_period('M')\n",
    "df_msci_min_vol_index['Date'] = pd.to_datetime(df_msci_min_vol_index['Date'], dayfirst=True).dt.to_period('M')\n",
    "df_msci_equal_weighted_index['Date'] = pd.to_datetime(df_msci_equal_weighted_index['Date'], dayfirst=True).dt.to_period('M')\n",
    "df_msci_momentum_index['Date'] = pd.to_datetime(df_msci_momentum_index['Date'], dayfirst=True).dt.to_period('M')\n",
    "df_msci_factor_totret_index['Date'] = pd.to_datetime(df_msci_factor_totret_index['Date'], dayfirst=True).dt.to_period('M')\n",
    "\n",
    "\n",
    "print(df_msci_factor_totret_index.dtypes)\n"
   ]
  },
  {
   "cell_type": "code",
   "execution_count": 10,
   "id": "31cf169e",
   "metadata": {},
   "outputs": [
    {
     "name": "stdout",
     "output_type": "stream",
     "text": [
      "         USA Standard (Large+Mid Cap)  USA VALUE Standard (Large+Mid Cap)  \\\n",
      "Date                                                                        \n",
      "1995-01                      0.027809                            0.029747   \n",
      "1995-02                      0.039666                            0.041532   \n",
      "1995-03                      0.027037                            0.026377   \n",
      "1995-04                      0.031637                            0.034501   \n",
      "1995-05                      0.039282                            0.040905   \n",
      "\n",
      "         USA MINIMUM VOLATILITY (USD) Standard (Large+Mid Cap)  \\\n",
      "Date                                                             \n",
      "1995-01                                           0.022468       \n",
      "1995-02                                           0.036264       \n",
      "1995-03                                           0.029685       \n",
      "1995-04                                           0.027145       \n",
      "1995-05                                           0.033892       \n",
      "\n",
      "         USA EQUAL WEIGHTED Standard (Large+Mid Cap)  \\\n",
      "Date                                                   \n",
      "1995-01                                     0.024055   \n",
      "1995-02                                     0.045351   \n",
      "1995-03                                     0.027659   \n",
      "1995-04                                     0.022943   \n",
      "1995-05                                     0.037515   \n",
      "\n",
      "         USA MOMENTUM Standard (Large+Mid Cap)  \n",
      "Date                                            \n",
      "1995-01                               0.012702  \n",
      "1995-02                               0.041511  \n",
      "1995-03                               0.045936  \n",
      "1995-04                               0.043127  \n",
      "1995-05                               0.037311  \n"
     ]
    }
   ],
   "source": [
    "# Function to convert string to float and handle commas\n",
    "def convert_to_float(s):\n",
    "    try:\n",
    "        return float(s.replace(',', ''))\n",
    "    except ValueError:\n",
    "        return None\n",
    "\n",
    "# Apply conversion to all relevant columns\n",
    "for col in df_msci_factor_totret_index.columns[1:]:\n",
    "    df_msci_factor_totret_index[col] = df_msci_factor_totret_index[col].apply(convert_to_float)\n",
    "\n",
    "# Calculate monthly returns\n",
    "df_msci_factor_totret_index = df_msci_factor_totret_index.set_index('Date')\n",
    "df_msci_returns = df_msci_factor_totret_index.pct_change().dropna()\n",
    "\n",
    "print(df_msci_returns.head())\n"
   ]
  },
  {
   "cell_type": "code",
   "execution_count": 11,
   "id": "4b6ff489",
   "metadata": {},
   "outputs": [
    {
     "name": "stdout",
     "output_type": "stream",
     "text": [
      "         Value Spread  Min Vol Spread  Equal Weighted Spread  Momentum Spread\n",
      "Date                                                                         \n",
      "1995-01      0.001938       -0.005341              -0.003754        -0.015106\n",
      "1995-02      0.001865       -0.003402               0.005685         0.001845\n",
      "1995-03     -0.000660        0.002648               0.000622         0.018899\n",
      "1995-04      0.002865       -0.004492              -0.008694         0.011491\n",
      "1995-05      0.001623       -0.005390              -0.001767        -0.001972\n"
     ]
    }
   ],
   "source": [
    "# Calculate the factor spreads for MSCI data\n",
    "df_msci_spreads = pd.DataFrame()\n",
    "df_msci_spreads['Value Spread'] = df_msci_returns['USA VALUE Standard (Large+Mid Cap)'] - df_msci_returns['USA Standard (Large+Mid Cap)']\n",
    "df_msci_spreads['Min Vol Spread'] = df_msci_returns['USA MINIMUM VOLATILITY (USD) Standard (Large+Mid Cap)'] - df_msci_returns['USA Standard (Large+Mid Cap)']\n",
    "df_msci_spreads['Equal Weighted Spread'] = df_msci_returns['USA EQUAL WEIGHTED Standard (Large+Mid Cap)'] - df_msci_returns['USA Standard (Large+Mid Cap)']\n",
    "df_msci_spreads['Momentum Spread'] = df_msci_returns['USA MOMENTUM Standard (Large+Mid Cap)'] - df_msci_returns['USA Standard (Large+Mid Cap)']\n",
    "\n",
    "print(df_msci_spreads.head())\n"
   ]
  },
  {
   "cell_type": "code",
   "execution_count": 20,
   "id": "ba3609c3",
   "metadata": {},
   "outputs": [
    {
     "name": "stdout",
     "output_type": "stream",
     "text": [
      "         192609  0.36  -1.4  0.13  0.23\n",
      "Date                                   \n",
      "1926-10  192610 -3.24 -0.09  0.70  0.32\n",
      "1926-11  192611  2.53 -0.10 -0.51  0.31\n",
      "1926-12  192612  2.62 -0.03 -0.05  0.28\n",
      "1927-01  192701 -0.06 -0.37  4.54  0.25\n",
      "1927-02  192702  4.18  0.04  2.94  0.26\n"
     ]
    }
   ],
   "source": [
    "print(df_ff_factors.head())\n"
   ]
  },
  {
   "cell_type": "code",
   "execution_count": 22,
   "id": "35671efb",
   "metadata": {},
   "outputs": [
    {
     "name": "stdout",
     "output_type": "stream",
     "text": [
      "Fama-French Factors Date Range:\n",
      " 1926-10 to 2023-08\n",
      "MSCI Factor Spreads Date Range:\n",
      " 1995-01 to 2023-07\n"
     ]
    }
   ],
   "source": [
    "# Inspect the date range of the Fama-French factors\n",
    "print(\"Fama-French Factors Date Range:\\n\", df_ff_factors.index.min(), \"to\", df_ff_factors.index.max())\n",
    "\n",
    "# Inspect the date range of the MSCI factor spreads\n",
    "print(\"MSCI Factor Spreads Date Range:\\n\", df_msci_spreads.index.min(), \"to\", df_msci_spreads.index.max())\n"
   ]
  },
  {
   "cell_type": "code",
   "execution_count": 25,
   "id": "df7f0b95",
   "metadata": {},
   "outputs": [
    {
     "name": "stdout",
     "output_type": "stream",
     "text": [
      "Fama-French Factors Descriptive Statistics:\n",
      "            Market         SMB         HML          RF\n",
      "count  343.000000  343.000000  343.000000  343.000000\n",
      "mean     0.756035    0.090583    0.115598    0.180350\n",
      "std      4.558709    3.257066    3.416044    0.176148\n",
      "min    -17.230000  -17.200000  -13.870000    0.000000\n",
      "25%     -1.950000   -1.935000   -1.795000    0.010000\n",
      "50%      1.350000    0.070000   -0.030000    0.130000\n",
      "75%      3.490000    2.045000    1.800000    0.375000\n",
      "max     13.650000   21.360000   12.750000    0.560000\n",
      "MSCI Factor Spreads Descriptive Statistics:\n",
      "        Value Spread  Min Vol Spread  Equal Weighted Spread  Momentum Spread\n",
      "count    343.000000      343.000000             343.000000       343.000000\n",
      "mean      -0.001120       -0.000663               0.000490         0.001798\n",
      "std        0.014877        0.018418               0.015577         0.022313\n",
      "min       -0.049069       -0.051040              -0.058466        -0.080149\n",
      "25%       -0.008821       -0.010645              -0.007872        -0.009900\n",
      "50%       -0.000876       -0.001987              -0.000056         0.003204\n",
      "75%        0.006061        0.008110               0.008200         0.013734\n",
      "max        0.052385        0.062830               0.079850         0.074668\n"
     ]
    }
   ],
   "source": [
    "print(\"Fama-French Factors Descriptive Statistics:\\n\", df_aligned_ff.describe())\n",
    "\n",
    "print(\"MSCI Factor Spreads Descriptive Statistics:\\n\", df_aligned_msci.describe())\n"
   ]
  },
  {
   "cell_type": "code",
   "execution_count": 30,
   "id": "53fba1b6",
   "metadata": {},
   "outputs": [
    {
     "name": "stdout",
     "output_type": "stream",
     "text": [
      "Value Spread vs SMB: -0.17702785090237724\n",
      "Value Spread vs HML: 0.7283344939372083\n",
      "Min Vol Spread vs SMB: -0.30698947733414844\n",
      "Min Vol Spread vs HML: 0.23153179027797033\n",
      "Equal Weighted Spread vs SMB: 0.3216158828903404\n",
      "Equal Weighted Spread vs HML: 0.4307997819381215\n",
      "Momentum Spread vs SMB: 0.07923787592874422\n",
      "Momentum Spread vs HML: -0.2225002769265769\n"
     ]
    }
   ],
   "source": [
    "import numpy as np\n",
    "\n",
    "manual_correlation_results = {}\n",
    "\n",
    "# Iterate over each MSCI spread and Fama-French factor to calculate correlations\n",
    "for msci_col in df_aligned_msci.columns:\n",
    "    for ff_col in ['SMB', 'HML']:\n",
    "        correlation = np.corrcoef(df_aligned_msci[msci_col], df_aligned_ff[ff_col])[0, 1]\n",
    "        key = f'{msci_col} vs {ff_col}'\n",
    "        manual_correlation_results[key] = correlation\n",
    "\n",
    "for key, value in manual_correlation_results.items():\n",
    "    print(f\"{key}: {value}\")\n"
   ]
  },
  {
   "cell_type": "code",
   "execution_count": 48,
   "id": "a51f2c36",
   "metadata": {},
   "outputs": [
    {
     "name": "stdout",
     "output_type": "stream",
     "text": [
      "Manually Calculated Correlations:\n",
      "MOM vs Value Spread: -0.24348108026773221\n",
      "MOM vs Min Vol Spread: 0.3031843870896379\n",
      "MOM vs Equal Weighted Spread: -0.4484803382496461\n",
      "MOM vs Momentum Spread: 0.6425965236094462\n"
     ]
    }
   ],
   "source": [
    "def correlation(series1, series2):\n",
    "    valid_index = series1.notna() & series2.notna()\n",
    "    if valid_index.any():\n",
    "        return np.corrcoef(series1[valid_index], series2[valid_index])[0, 1]\n",
    "    else:\n",
    "        return np.nan\n",
    "\n",
    "correlation_results = {}\n",
    "\n",
    "for msci_col in df_msci_spreads.columns:\n",
    "    correlation = correlation(df_aligned_mom['MOM'], df_msci_spreads[msci_col])\n",
    "    key = f'MOM vs {msci_col}'\n",
    "    correlation_results[key] = correlation\n",
    "\n",
    "print(\"Calculated Correlations:\")\n",
    "for key, value in manual_correlation_results.items():\n",
    "    print(f\"{key}: {value}\")\n"
   ]
  },
  {
   "cell_type": "code",
   "execution_count": 52,
   "id": "9cc57d65",
   "metadata": {},
   "outputs": [
    {
     "name": "stdout",
     "output_type": "stream",
     "text": [
      "Manually Calculated Correlations with Low vs. High Beta Factor:\n",
      "Low_vs_High_Beta vs Value Spread: 0.006140475337943393\n",
      "Low_vs_High_Beta vs Min Vol Spread: 0.11091898186974383\n",
      "Low_vs_High_Beta vs Equal Weighted Spread: 0.008346858148341404\n",
      "Low_vs_High_Beta vs Momentum Spread: 0.0074354420033354695\n"
     ]
    }
   ],
   "source": [
    "def correlation(series1, series2):\n",
    "    valid_index = series1.notna() & series2.notna()\n",
    "    if valid_index.any():\n",
    "        return np.corrcoef(series1[valid_index], series2[valid_index])[0, 1]\n",
    "    else:\n",
    "        return np.nan\n",
    "\n",
    "correlation_results = {}\n",
    "\n",
    "for msci_col in df_msci_spreads.columns:\n",
    "    correlation = correlation(df_low_vs_high_beta['Low_vs_High_Beta'], df_msci_spreads_aligned[msci_col])\n",
    "    key = f'Low_vs_High_Beta vs {msci_col}'\n",
    "    correlation_results[key] = correlation\n",
    "\n",
    "print(\"Calculated Correlations with Low vs. High Beta Factor:\")\n",
    "for key, value in correlation_results.items():\n",
    "    print(f\"{key}: {value}\")\n"
   ]
  },
  {
   "cell_type": "code",
   "execution_count": null,
   "id": "1a05ee14",
   "metadata": {},
   "outputs": [],
   "source": []
  }
 ],
 "metadata": {
  "kernelspec": {
   "display_name": "Python 3 (ipykernel)",
   "language": "python",
   "name": "python3"
  },
  "language_info": {
   "codemirror_mode": {
    "name": "ipython",
    "version": 3
   },
   "file_extension": ".py",
   "mimetype": "text/x-python",
   "name": "python",
   "nbconvert_exporter": "python",
   "pygments_lexer": "ipython3",
   "version": "3.9.12"
  }
 },
 "nbformat": 4,
 "nbformat_minor": 5
}
