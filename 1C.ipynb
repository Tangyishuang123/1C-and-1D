{
 "cells": [
  {
   "cell_type": "code",
   "execution_count": 5,
   "id": "02a4484a",
   "metadata": {
    "scrolled": true
   },
   "outputs": [
    {
     "name": "stdout",
     "output_type": "stream",
     "text": [
      "Fama-French Data:\n",
      "   Unnamed: 0  Mkt-RF   SMB   HML    RF\n",
      "0      192607    2.96 -2.56 -2.43  0.22\n",
      "1      192608    2.64 -1.17  3.82  0.25\n",
      "2      192609    0.36 -1.40  0.13  0.23\n",
      "3      192610   -3.24 -0.09  0.70  0.32\n",
      "4      192611    2.53 -0.10 -0.51  0.31\n",
      "\n",
      "MSCI USA Data:\n",
      "        Date USA Standard (Large+Mid Cap)\n",
      "0  31-Jan-95                      442.209\n",
      "1  28-Feb-95                      458.693\n",
      "2  31-Mar-95                      470.035\n",
      "3  28-Apr-95                      483.842\n",
      "4  31-May-95                      501.775\n",
      "\n",
      "MSCI USA Value Data:\n",
      "        Date USA VALUE Standard (Large+Mid Cap)\n",
      "0  31-Jan-95                            613.312\n",
      "1  28-Feb-95                            636.999\n",
      "2  31-Mar-95                            651.991\n",
      "3  28-Apr-95                            672.687\n",
      "4  31-May-95                            698.397\n",
      "\n",
      "MSCI USA Minimum Volatility Data:\n",
      "        Date USA MINIMUM VOLATILITY (USD) Standard (Large+Mid Cap)\n",
      "0  31-Jan-95                                            439.603   \n",
      "1  28-Feb-95                                            453.957   \n",
      "2  31-Mar-95                                            466.344   \n",
      "3  28-Apr-95                                            478.155   \n",
      "4  31-May-95                                            492.605   \n",
      "\n",
      "MSCI USA Equal-Weighted Data:\n",
      "        Date USA EQUAL WEIGHTED Standard (Large+Mid Cap)\n",
      "0  31-Jan-95                                      459.97\n",
      "1  28-Feb-95                                     479.423\n",
      "2  31-Mar-95                                     491.723\n",
      "3  28-Apr-95                                     502.324\n",
      "4  31-May-95                                     519.538\n",
      "\n",
      "MSCI USA Momentum Data:\n",
      "        Date USA MOMENTUM Standard (Large+Mid Cap)\n",
      "0  31-Jan-95                                159.89\n",
      "1  28-Feb-95                               166.192\n",
      "2  31-Mar-95                               173.507\n",
      "3  28-Apr-95                               180.889\n",
      "4  31-May-95                               187.201\n"
     ]
    }
   ],
   "source": [
    "import pandas as pd\n",
    "\n",
    "fama_french_filepath = 'C:/Users/tangy/Desktop/data/F-F_Research_Data_Factors.CSV'\n",
    "msci_usa_filepath = 'C:/Users/tangy/Desktop/data/MSCI USA index.CSV'\n",
    "msci_usa_value_filepath = 'C:/Users/tangy/Desktop/data/MSCI USA value index.CSV'\n",
    "msci_usa_min_vol_filepath = 'C:/Users/tangy/Desktop/data/MSCI USA minimum volatility index.CSV'\n",
    "msci_usa_equal_weighted_filepath = 'C:/Users/tangy/Desktop/data/MSCI USA equal-weighted index.CSV'\n",
    "msci_usa_momentum_filepath = 'C:/Users/tangy/Desktop/data/MSCI USA momentum index.CSV'\n",
    "\n",
    "fama_french_data = pd.read_csv(fama_french_filepath)\n",
    "msci_usa_data = pd.read_csv(msci_usa_filepath)\n",
    "msci_usa_value_data = pd.read_csv(msci_usa_value_filepath)\n",
    "msci_usa_min_vol_data = pd.read_csv(msci_usa_min_vol_filepath)\n",
    "msci_usa_equal_weighted_data = pd.read_csv(msci_usa_equal_weighted_filepath)\n",
    "msci_usa_momentum_data = pd.read_csv(msci_usa_momentum_filepath)\n",
    "\n",
    "print(\"Fama-French Data:\")\n",
    "print(fama_french_data.head())\n",
    "print(\"\\nMSCI USA Data:\")\n",
    "print(msci_usa_data.head())\n",
    "print(\"\\nMSCI USA Value Data:\")\n",
    "print(msci_usa_value_data.head())\n",
    "print(\"\\nMSCI USA Minimum Volatility Data:\")\n",
    "print(msci_usa_min_vol_data.head())\n",
    "print(\"\\nMSCI USA Equal-Weighted Data:\")\n",
    "print(msci_usa_equal_weighted_data.head())\n",
    "print(\"\\nMSCI USA Momentum Data:\")\n",
    "print(msci_usa_momentum_data.head())\n"
   ]
  },
  {
   "cell_type": "code",
   "execution_count": 6,
   "id": "a305d11c",
   "metadata": {},
   "outputs": [],
   "source": [
    "def convert_msci_date(date_str):\n",
    "    if isinstance(date_str, str):\n",
    "        return datetime.strptime(date_str, '%d-%b-%y').strftime('%Y%m')\n",
    "    else:\n",
    "        return 'Unknown'\n",
    "\n",
    "msci_usa_data['Date'] = msci_usa_data['Date'].apply(convert_msci_date)\n",
    "msci_usa_value_data['Date'] = msci_usa_value_data['Date'].apply(convert_msci_date)"
   ]
  },
  {
   "cell_type": "code",
   "execution_count": 9,
   "id": "03a3ffbf",
   "metadata": {},
   "outputs": [
    {
     "name": "stdout",
     "output_type": "stream",
     "text": [
      "     Date  USA Standard (Large+Mid Cap)  Monthly_Return\n",
      "0  199501                       442.209             NaN\n",
      "1  199502                       458.693        3.727649\n",
      "2  199503                       470.035        2.472678\n",
      "3  199504                       483.842        2.937441\n",
      "4  199505                       501.775        3.706375\n"
     ]
    }
   ],
   "source": [
    "def calculate_monthly_returns(df, value_column):\n",
    "    df[value_column] = pd.to_numeric(df[value_column], errors='coerce')\n",
    "    df['Monthly_Return'] = df[value_column].pct_change() * 100\n",
    "    return df\n",
    "\n",
    "msci_usa_data = calculate_monthly_returns(msci_usa_data, 'USA Standard (Large+Mid Cap)')\n",
    "msci_usa_value_data = calculate_monthly_returns(msci_usa_value_data, 'USA VALUE Standard (Large+Mid Cap)')\n",
    "msci_usa_min_vol_data = calculate_monthly_returns(msci_usa_min_vol_data, 'USA MINIMUM VOLATILITY (USD) Standard (Large+Mid Cap)')\n",
    "msci_usa_equal_weighted_data = calculate_monthly_returns(msci_usa_equal_weighted_data, 'USA EQUAL WEIGHTED Standard (Large+Mid Cap)')\n",
    "msci_usa_momentum_data = calculate_monthly_returns(msci_usa_momentum_data, 'USA MOMENTUM Standard (Large+Mid Cap)')\n",
    "\n",
    "print(msci_usa_data.head())\n"
   ]
  },
  {
   "cell_type": "code",
   "execution_count": 14,
   "id": "cfc0bec3",
   "metadata": {},
   "outputs": [],
   "source": [
    "def convert_msci_date(date_str):\n",
    "    if isinstance(date_str, str):\n",
    "        try:\n",
    "            return datetime.strptime(date_str, '%d-%b-%y').strftime('%Y%m')\n",
    "        except ValueError:\n",
    "            return date_str \n",
    "    else:\n",
    "        return date_str\n",
    "\n",
    "msci_usa_data['Date'] = msci_usa_data['Date'].apply(convert_msci_date)\n",
    "msci_usa_value_data['Date'] = msci_usa_value_data['Date'].apply(convert_msci_date)\n",
    "msci_usa_min_vol_data['Date'] = msci_usa_min_vol_data['Date'].apply(convert_msci_date)\n",
    "msci_usa_equal_weighted_data['Date'] = msci_usa_equal_weighted_data['Date'].apply(convert_msci_date)\n",
    "msci_usa_momentum_data['Date'] = msci_usa_momentum_data['Date'].apply(convert_msci_date)\n",
    "\n",
    "msci_usa_data['Date'] = msci_usa_data['Date'].astype(int)\n",
    "msci_usa_value_data['Date'] = msci_usa_value_data['Date'].astype(int)\n",
    "msci_usa_min_vol_data['Date'] = msci_usa_min_vol_data['Date'].astype(int)\n",
    "msci_usa_equal_weighted_data['Date'] = msci_usa_equal_weighted_data['Date'].astype(int)\n",
    "msci_usa_momentum_data['Date'] = msci_usa_momentum_data['Date'].astype(int)\n",
    "\n"
   ]
  },
  {
   "cell_type": "code",
   "execution_count": 15,
   "id": "51a48997",
   "metadata": {
    "scrolled": true
   },
   "outputs": [],
   "source": [
    "msci_usa_data['Date'] = msci_usa_data['Date'].astype(int)\n",
    "msci_usa_value_data['Date'] = msci_usa_value_data['Date'].astype(int)\n",
    "msci_usa_min_vol_data['Date'] = msci_usa_min_vol_data['Date'].astype(int)\n",
    "msci_usa_equal_weighted_data['Date'] = msci_usa_equal_weighted_data['Date'].astype(int)\n",
    "msci_usa_momentum_data['Date'] = msci_usa_momentum_data['Date'].astype(int)\n",
    "\n",
    "msci_usa_data = msci_usa_data[(msci_usa_data['Date'] >= start_date) & (msci_usa_data['Date'] <= end_date)]\n",
    "msci_usa_value_data = msci_usa_value_data[(msci_usa_value_data['Date'] >= start_date) & (msci_usa_value_data['Date'] <= end_date)]\n",
    "msci_usa_min_vol_data = msci_usa_min_vol_data[(msci_usa_min_vol_data['Date'] >= start_date) & (msci_usa_min_vol_data['Date'] <= end_date)]\n",
    "msci_usa_equal_weighted_data = msci_usa_equal_weighted_data[(msci_usa_equal_weighted_data['Date'] >= start_date) & (msci_usa_equal_weighted_data['Date'] <= end_date)]\n",
    "msci_usa_momentum_data = msci_usa_momentum_data[(msci_usa_momentum_data['Date'] >= start_date) & (msci_usa_momentum_data['Date'] <= end_date)]\n",
    "\n"
   ]
  },
  {
   "cell_type": "code",
   "execution_count": 16,
   "id": "378e7a4f",
   "metadata": {
    "scrolled": true
   },
   "outputs": [
    {
     "name": "stdout",
     "output_type": "stream",
     "text": [
      "                         Annualized Return  Sharpe Ratio\n",
      "MSCI USA                          0.031973      0.003952\n",
      "MSCI USA Value                    0.018364      0.003369\n",
      "MSCI USA Min Vol                  0.031647      0.004093\n",
      "MSCI USA Equal Weighted           0.026023      0.003006\n",
      "MSCI USA Momentum                 0.075122      0.005610\n"
     ]
    }
   ],
   "source": [
    "import pandas as pd\n",
    "\n",
    "\n",
    "start_date = 199501\n",
    "end_date = 202307\n",
    "\n",
    "msci_usa_data = msci_usa_data[(msci_usa_data['Date'] >= start_date) & (msci_usa_data['Date'] <= end_date)]\n",
    "msci_usa_value_data = msci_usa_value_data[(msci_usa_value_data['Date'] >= start_date) & (msci_usa_value_data['Date'] <= end_date)]\n",
    "msci_usa_min_vol_data = msci_usa_min_vol_data[(msci_usa_min_vol_data['Date'] >= start_date) & (msci_usa_min_vol_data['Date'] <= end_date)]\n",
    "msci_usa_equal_weighted_data = msci_usa_equal_weighted_data[(msci_usa_equal_weighted_data['Date'] >= start_date) & (msci_usa_equal_weighted_data['Date'] <= end_date)]\n",
    "msci_usa_momentum_data = msci_usa_momentum_data[(msci_usa_momentum_data['Date'] >= start_date) & (msci_usa_momentum_data['Date'] <= end_date)]\n",
    "\n",
    "# Risk-free rate from Fama-French dataset\n",
    "fama_french_data = fama_french_data[(fama_french_data['Unnamed: 0'] >= start_date) & (fama_french_data['Unnamed: 0'] <= end_date)]\n",
    "risk_free_rate = fama_french_data['RF'].mean() / 100  # Converting to decimal\n",
    "\n",
    "# Function to calculate annualized return and Sharpe Ratio\n",
    "def calculate_metrics(df):\n",
    "    avg_monthly_return = df['Monthly_Return'].mean()\n",
    "    annualized_return = (1 + avg_monthly_return / 100)**12 - 1  # Annualized Return\n",
    "    annualized_volatility = df['Monthly_Return'].std() * (12**0.5)  # Annual Volatility\n",
    "    sharpe_ratio = (annualized_return - risk_free_rate) / annualized_volatility  # Sharpe Ratio\n",
    "\n",
    "    return annualized_return, sharpe_ratio\n",
    "\n",
    "metrics = {\n",
    "    \"MSCI USA\": calculate_metrics(msci_usa_data),\n",
    "    \"MSCI USA Value\": calculate_metrics(msci_usa_value_data),\n",
    "    \"MSCI USA Min Vol\": calculate_metrics(msci_usa_min_vol_data),\n",
    "    \"MSCI USA Equal Weighted\": calculate_metrics(msci_usa_equal_weighted_data),\n",
    "    \"MSCI USA Momentum\": calculate_metrics(msci_usa_momentum_data)\n",
    "}\n",
    "\n",
    "metrics_df = pd.DataFrame(metrics, index=[\"Annualized Return\", \"Sharpe Ratio\"]).T\n",
    "print(metrics_df)\n",
    "\n"
   ]
  },
  {
   "cell_type": "code",
   "execution_count": 17,
   "id": "bc33c4ea",
   "metadata": {},
   "outputs": [
    {
     "data": {
      "image/png": "[encoded data removed]",
      "text/plain": [
       "<Figure size 720x576 with 2 Axes>"
      ]
     },
     "metadata": {
      "needs_background": "light"
     },
     "output_type": "display_data"
    }
   ],
   "source": [
    "import matplotlib.pyplot as plt\n",
    "\n",
    "metrics_df.plot(kind='bar', subplots=True, layout=(2, 1), figsize=(10, 8), legend=False)\n",
    "\n",
    "plt.subplots_adjust(hspace=0.5)\n",
    "plt.suptitle('MSCI Index Performance Analysis (1995 - 2023)')\n",
    "\n",
    "plt.subplot(2, 1, 1)\n",
    "plt.ylabel('Annualized Return')\n",
    "plt.xticks(rotation=45)\n",
    "\n",
    "plt.subplot(2, 1, 2)\n",
    "plt.ylabel('Sharpe Ratio')\n",
    "plt.xticks(rotation=45)\n",
    "\n",
    "plt.show()\n"
   ]
  },
  {
   "cell_type": "code",
   "execution_count": 18,
   "id": "afd9f2e8",
   "metadata": {},
   "outputs": [
    {
     "name": "stdout",
     "output_type": "stream",
     "text": [
      "                         Annualized Return  Sharpe Ratio\n",
      "MSCI USA                          0.031973      0.003952\n",
      "MSCI USA Value                    0.018364      0.003369\n",
      "MSCI USA Min Vol                  0.031647      0.004093\n",
      "MSCI USA Equal Weighted           0.026023      0.003006\n",
      "MSCI USA Momentum                 0.075122      0.005610\n",
      "MSCI Multi-Factor                 0.037577      0.005299\n"
     ]
    }
   ],
   "source": [
    "msci_multi_factor = (msci_usa_value_data['Monthly_Return'] + \n",
    "                     msci_usa_min_vol_data['Monthly_Return'] + \n",
    "                     msci_usa_equal_weighted_data['Monthly_Return'] + \n",
    "                     msci_usa_momentum_data['Monthly_Return']) / 4\n",
    "\n",
    "msci_multi_factor_data = pd.DataFrame({'Date': msci_usa_value_data['Date'], 'Monthly_Return': msci_multi_factor})\n",
    "\n",
    "multi_factor_metrics = calculate_metrics(msci_multi_factor_data)\n",
    "\n",
    "metrics_df.loc['MSCI Multi-Factor'] = multi_factor_metrics\n",
    "\n",
    "print(metrics_df)\n"
   ]
  },
  {
   "cell_type": "code",
   "execution_count": null,
   "id": "036b941f",
   "metadata": {},
   "outputs": [],
   "source": []
  }
 ],
 "metadata": {
  "kernelspec": {
   "display_name": "Python 3 (ipykernel)",
   "language": "python",
   "name": "python3"
  },
  "language_info": {
   "codemirror_mode": {
    "name": "ipython",
    "version": 3
   },
   "file_extension": ".py",
   "mimetype": "text/x-python",
   "name": "python",
   "nbconvert_exporter": "python",
   "pygments_lexer": "ipython3",
   "version": "3.9.12"
  }
 },
 "nbformat": 4,
 "nbformat_minor": 5
}
